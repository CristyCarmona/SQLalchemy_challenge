{
 "cells": [
  {
   "cell_type": "code",
   "execution_count": 1,
   "metadata": {},
   "outputs": [],
   "source": [
    "%matplotlib inline\n",
    "from matplotlib import style\n",
    "style.use('fivethirtyeight')\n",
    "import matplotlib.pyplot as plt\n"
   ]
  },
  {
   "cell_type": "code",
   "execution_count": 2,
   "metadata": {},
   "outputs": [],
   "source": [
    "import numpy as np\n",
    "import pandas as pd\n",
    "from scipy import stats"
   ]
  },
  {
   "cell_type": "code",
   "execution_count": 3,
   "metadata": {},
   "outputs": [],
   "source": [
    "import datetime as dt\n",
    "from datetime import datetime,timedelta"
   ]
  },
  {
   "cell_type": "markdown",
   "metadata": {},
   "source": [
    "# Reflect Tables into SQLAlchemy ORM"
   ]
  },
  {
   "cell_type": "code",
   "execution_count": 4,
   "metadata": {},
   "outputs": [],
   "source": [
    "# Python SQL toolkit and Object Relational Mapper\n",
    "import sqlalchemy\n",
    "from sqlalchemy.ext.automap import automap_base\n",
    "from sqlalchemy.orm import Session\n",
    "from sqlalchemy import create_engine, func"
   ]
  },
  {
   "cell_type": "code",
   "execution_count": 5,
   "metadata": {},
   "outputs": [],
   "source": [
    "engine = create_engine(\"sqlite:///Flask/hawaii.sqlite\")"
   ]
  },
  {
   "cell_type": "code",
   "execution_count": 6,
   "metadata": {},
   "outputs": [],
   "source": [
    "# reflect an existing database into a new model\n",
    "Base = automap_base()\n",
    "\n",
    "# reflect the tables\n",
    "Base.prepare(engine, reflect=True)"
   ]
  },
  {
   "cell_type": "code",
   "execution_count": 7,
   "metadata": {},
   "outputs": [
    {
     "data": {
      "text/plain": [
       "['measurement', 'station']"
      ]
     },
     "execution_count": 7,
     "metadata": {},
     "output_type": "execute_result"
    }
   ],
   "source": [
    "# We can view all of the classes that automap found\n",
    "Base.classes.keys()"
   ]
  },
  {
   "cell_type": "code",
   "execution_count": 8,
   "metadata": {},
   "outputs": [],
   "source": [
    "# Save references to each table\n",
    "measurement = Base.classes.measurement\n",
    "station = Base.classes.station"
   ]
  },
  {
   "cell_type": "code",
   "execution_count": 9,
   "metadata": {},
   "outputs": [],
   "source": [
    "# Create our session (link) from Python to the DB\n",
    "session = Session(engine)"
   ]
  },
  {
   "cell_type": "code",
   "execution_count": 10,
   "metadata": {},
   "outputs": [
    {
     "data": {
      "text/plain": [
       "{'_sa_instance_state': <sqlalchemy.orm.state.InstanceState at 0x21683ad3a08>,\n",
       " 'latitude': 21.2716,\n",
       " 'station': 'USC00519397',\n",
       " 'elevation': 3.0,\n",
       " 'longitude': -157.8168,\n",
       " 'id': 1,\n",
       " 'name': 'WAIKIKI 717.2, HI US'}"
      ]
     },
     "execution_count": 10,
     "metadata": {},
     "output_type": "execute_result"
    }
   ],
   "source": [
    "first_row = session.query(station).first()\n",
    "first_row.__dict__"
   ]
  },
  {
   "cell_type": "markdown",
   "metadata": {},
   "source": [
    "# Exploratory Climate Analysis"
   ]
  },
  {
   "cell_type": "code",
   "execution_count": 11,
   "metadata": {},
   "outputs": [],
   "source": [
    "from sqlalchemy.sql.expression import text"
   ]
  },
  {
   "cell_type": "code",
   "execution_count": 12,
   "metadata": {},
   "outputs": [
    {
     "name": "stdout",
     "output_type": "stream",
     "text": [
      "2016-08-23\n"
     ]
    },
    {
     "data": {
      "text/html": [
       "<div>\n",
       "<style scoped>\n",
       "    .dataframe tbody tr th:only-of-type {\n",
       "        vertical-align: middle;\n",
       "    }\n",
       "\n",
       "    .dataframe tbody tr th {\n",
       "        vertical-align: top;\n",
       "    }\n",
       "\n",
       "    .dataframe thead th {\n",
       "        text-align: right;\n",
       "    }\n",
       "</style>\n",
       "<table border=\"1\" class=\"dataframe\">\n",
       "  <thead>\n",
       "    <tr style=\"text-align: right;\">\n",
       "      <th></th>\n",
       "      <th>Date</th>\n",
       "      <th>Precipitation_score</th>\n",
       "    </tr>\n",
       "    <tr>\n",
       "      <th>Date</th>\n",
       "      <th></th>\n",
       "      <th></th>\n",
       "    </tr>\n",
       "  </thead>\n",
       "  <tbody>\n",
       "    <tr>\n",
       "      <th>2016-08-24</th>\n",
       "      <td>2016-08-24</td>\n",
       "      <td>0.08</td>\n",
       "    </tr>\n",
       "    <tr>\n",
       "      <th>2016-08-24</th>\n",
       "      <td>2016-08-24</td>\n",
       "      <td>NaN</td>\n",
       "    </tr>\n",
       "    <tr>\n",
       "      <th>2016-08-24</th>\n",
       "      <td>2016-08-24</td>\n",
       "      <td>2.15</td>\n",
       "    </tr>\n",
       "    <tr>\n",
       "      <th>2016-08-24</th>\n",
       "      <td>2016-08-24</td>\n",
       "      <td>2.28</td>\n",
       "    </tr>\n",
       "    <tr>\n",
       "      <th>2016-08-24</th>\n",
       "      <td>2016-08-24</td>\n",
       "      <td>2.15</td>\n",
       "    </tr>\n",
       "    <tr>\n",
       "      <th>2016-08-24</th>\n",
       "      <td>2016-08-24</td>\n",
       "      <td>1.45</td>\n",
       "    </tr>\n",
       "    <tr>\n",
       "      <th>2016-08-24</th>\n",
       "      <td>2016-08-24</td>\n",
       "      <td>1.22</td>\n",
       "    </tr>\n",
       "    <tr>\n",
       "      <th>2016-08-25</th>\n",
       "      <td>2016-08-25</td>\n",
       "      <td>0.08</td>\n",
       "    </tr>\n",
       "    <tr>\n",
       "      <th>2016-08-25</th>\n",
       "      <td>2016-08-25</td>\n",
       "      <td>0.00</td>\n",
       "    </tr>\n",
       "    <tr>\n",
       "      <th>2016-08-25</th>\n",
       "      <td>2016-08-25</td>\n",
       "      <td>0.06</td>\n",
       "    </tr>\n",
       "  </tbody>\n",
       "</table>\n",
       "</div>"
      ],
      "text/plain": [
       "                  Date  Precipitation_score\n",
       "Date                                       \n",
       "2016-08-24  2016-08-24                 0.08\n",
       "2016-08-24  2016-08-24                  NaN\n",
       "2016-08-24  2016-08-24                 2.15\n",
       "2016-08-24  2016-08-24                 2.28\n",
       "2016-08-24  2016-08-24                 2.15\n",
       "2016-08-24  2016-08-24                 1.45\n",
       "2016-08-24  2016-08-24                 1.22\n",
       "2016-08-25  2016-08-25                 0.08\n",
       "2016-08-25  2016-08-25                 0.00\n",
       "2016-08-25  2016-08-25                 0.06"
      ]
     },
     "execution_count": 12,
     "metadata": {},
     "output_type": "execute_result"
    }
   ],
   "source": [
    "# Design a query to retrieve the last 12 months of precipitation data and plot the results\n",
    "\n",
    "# Calculate the date 1 year ago from the last data point in the database\n",
    "last_day = session.query(func.max(measurement.date).label(\"max_day\")).one()\n",
    "\n",
    "dt_last_day = dt.datetime.strptime(last_day.max_day,\"%Y-%m-%d\")\n",
    "\n",
    "query_date = dt_last_day - dt.timedelta(days=365)\n",
    "print(query_date.date())\n",
    "\n",
    "# Perform a query to retrieve the data and precipitation scores\n",
    "precipition_data = session.query(measurement.date,measurement.prcp).filter(measurement.date >= query_date).all()\n",
    "\n",
    "# Save the query results as a Pandas DataFrame and set the index to the date column\n",
    "df = pd.DataFrame(precipition_data[:], columns=['Date', 'Precipitation_score'])\n",
    "df.set_index(df['Date'], inplace=True)\n",
    "df.head(10)\n",
    "\n",
    "# Sort the dataframe by date\n",
    "df_sort = df.sort_index()\n",
    "df_sort.head(10)\n",
    "\n",
    "#Hay nulos no se tienen que quitar?\n",
    "#nulls_array = pd.isnull(df_sort[\"Precipitation_score\"]) \n",
    "#df_sort[bool_series]\n",
    "\n"
   ]
  },
  {
   "cell_type": "code",
   "execution_count": 13,
   "metadata": {},
   "outputs": [
    {
     "data": {
      "image/png": "[encoded data removed]",
      "text/plain": [
       "<Figure size 432x288 with 1 Axes>"
      ]
     },
     "metadata": {},
     "output_type": "display_data"
    }
   ],
   "source": [
    "# Use Pandas Plotting with Matplotlib to plot the data\n",
    "ax = df_sort.plot(rot=90)\n",
    "plt.ylabel(\"Inches\")\n",
    "plt.xlabel(\"Date\")\n",
    "ax.legend([\"Precipitation\"],loc='best')\n",
    "plt.tight_layout()\n",
    "plt.show()"
   ]
  },
  {
   "cell_type": "code",
   "execution_count": 14,
   "metadata": {},
   "outputs": [
    {
     "data": {
      "text/html": [
       "<div>\n",
       "<style scoped>\n",
       "    .dataframe tbody tr th:only-of-type {\n",
       "        vertical-align: middle;\n",
       "    }\n",
       "\n",
       "    .dataframe tbody tr th {\n",
       "        vertical-align: top;\n",
       "    }\n",
       "\n",
       "    .dataframe thead th {\n",
       "        text-align: right;\n",
       "    }\n",
       "</style>\n",
       "<table border=\"1\" class=\"dataframe\">\n",
       "  <thead>\n",
       "    <tr style=\"text-align: right;\">\n",
       "      <th></th>\n",
       "      <th>Precipitation_score</th>\n",
       "    </tr>\n",
       "  </thead>\n",
       "  <tbody>\n",
       "    <tr>\n",
       "      <th>count</th>\n",
       "      <td>2015.000000</td>\n",
       "    </tr>\n",
       "    <tr>\n",
       "      <th>mean</th>\n",
       "      <td>0.176462</td>\n",
       "    </tr>\n",
       "    <tr>\n",
       "      <th>std</th>\n",
       "      <td>0.460288</td>\n",
       "    </tr>\n",
       "    <tr>\n",
       "      <th>min</th>\n",
       "      <td>0.000000</td>\n",
       "    </tr>\n",
       "    <tr>\n",
       "      <th>25%</th>\n",
       "      <td>0.000000</td>\n",
       "    </tr>\n",
       "    <tr>\n",
       "      <th>50%</th>\n",
       "      <td>0.020000</td>\n",
       "    </tr>\n",
       "    <tr>\n",
       "      <th>75%</th>\n",
       "      <td>0.130000</td>\n",
       "    </tr>\n",
       "    <tr>\n",
       "      <th>max</th>\n",
       "      <td>6.700000</td>\n",
       "    </tr>\n",
       "  </tbody>\n",
       "</table>\n",
       "</div>"
      ],
      "text/plain": [
       "       Precipitation_score\n",
       "count          2015.000000\n",
       "mean              0.176462\n",
       "std               0.460288\n",
       "min               0.000000\n",
       "25%               0.000000\n",
       "50%               0.020000\n",
       "75%               0.130000\n",
       "max               6.700000"
      ]
     },
     "execution_count": 14,
     "metadata": {},
     "output_type": "execute_result"
    }
   ],
   "source": [
    "# Use Pandas to calcualte the summary statistics for the precipitation data\n",
    "\n",
    "df_sort.describe()\n"
   ]
  },
  {
   "cell_type": "code",
   "execution_count": 15,
   "metadata": {},
   "outputs": [
    {
     "name": "stdout",
     "output_type": "stream",
     "text": [
      "The number of stations in the data set are: 9\n"
     ]
    }
   ],
   "source": [
    "# Design a query to show how many stations are available in this dataset?\n",
    "station_data = session.query(measurement.station,measurement.id).all()\n",
    "df_stations = pd.DataFrame(station_data[:], columns=['stations','id'])\n",
    "stations_count = len(df_stations.stations.unique())\n",
    "\n",
    "print(f'The number of stations in the data set are: {stations_count}')"
   ]
  },
  {
   "cell_type": "code",
   "execution_count": 16,
   "metadata": {},
   "outputs": [
    {
     "data": {
      "text/plain": [
       "'USC00519281'"
      ]
     },
     "execution_count": 16,
     "metadata": {},
     "output_type": "execute_result"
    }
   ],
   "source": [
    "# What are the most active stations? (i.e. what stations have the most rows)?\n",
    "# List the stations and the counts in descending order.\n",
    "station_active = df_stations.groupby(['stations']).count().sort_values(by=\"id\",ascending=False)\n",
    "more_active = station_active.index[0]\n",
    "more_active"
   ]
  },
  {
   "cell_type": "code",
   "execution_count": 17,
   "metadata": {},
   "outputs": [
    {
     "name": "stdout",
     "output_type": "stream",
     "text": [
      "The lowest temperature in USC00519281 station is 54.0\n",
      "The maximum temperature in USC00519281 is 85.0\n",
      "The average temperature in USC00519281 is 71.66\n"
     ]
    }
   ],
   "source": [
    "# Using the station id from the previous query, calculate the lowest temperature recorded, \n",
    "# highest temperature recorded, and average temperature of the most active station?\n",
    "temp_data_min = session.query(func.min(measurement.tobs)).\\\n",
    "                        filter(measurement.station == more_active).scalar()\n",
    "print(f'The lowest temperature in {more_active} station is {temp_data_min}')\n",
    "\n",
    "temp_data_max = session.query(func.max(measurement.tobs)).\\\n",
    "                        filter(measurement.station == more_active).scalar()\n",
    "print(f'The maximum temperature in {more_active} is {temp_data_max}')\n",
    "\n",
    "temp_data_avg = session.query(func.avg(measurement.tobs)).\\\n",
    "                        filter(measurement.station == more_active).scalar()\n",
    "print(f'The average temperature in {more_active} is {round(temp_data_avg,2)}')\n",
    "\n"
   ]
  },
  {
   "cell_type": "code",
   "execution_count": 18,
   "metadata": {
    "scrolled": true
   },
   "outputs": [
    {
     "name": "stdout",
     "output_type": "stream",
     "text": [
      "Station with the highest temperature USC00519281\n"
     ]
    },
    {
     "data": {
      "image/png": "[encoded data removed]",
      "text/plain": [
       "<Figure size 432x288 with 1 Axes>"
      ]
     },
     "metadata": {},
     "output_type": "display_data"
    }
   ],
   "source": [
    "# Choose the station with the highest number of temperature observations.\n",
    "# Query the last 12 months of temperature observation data for this station and plot the results as a histogram\n",
    "temp_data = session.query(measurement.station, measurement.tobs).all()\n",
    "df_temp = pd.DataFrame(temp_data[:], columns=['station','temp'])\n",
    "df_temp_more_obs = df_temp.groupby(by='station').count().sort_values(by='temp',ascending=False)\n",
    "print(f'Station with the highest temperature {df_temp_more_obs.index[0]}')\n",
    "\n",
    "temp_data = session.query(measurement.station, measurement.tobs,measurement.date).filter(measurement.station == df_temp_more_obs.index[0]).all()\n",
    "df_temp_USC00519281 = pd.DataFrame(temp_data[:], columns=['station','temp','date'])\n",
    "df_temp_USC00519281.dtypes\n",
    "df_temp_USC00519281['Date_type']= pd.to_datetime(df_temp_USC00519281['date']) \n",
    "\n",
    "df_temp_12months = df_temp_USC00519281.loc[df_temp_USC00519281['Date_type']>=query_date]\n",
    "\n",
    "hist = df_temp_12months['temp'].hist(bins=12)\n",
    "plt.ylabel(\"Frequency\")\n",
    "plt.xlabel(\"Temperature\")\n",
    "plt.legend([\"tobs\"],loc='best')\n",
    "plt.tight_layout()\n",
    "plt.show()\n"
   ]
  },
  {
   "cell_type": "markdown",
   "metadata": {},
   "source": [
    "## Bonus Challenge Assignment"
   ]
  },
  {
   "cell_type": "markdown",
   "metadata": {},
   "source": [
    "## Temperature Analysis I"
   ]
  },
  {
   "cell_type": "code",
   "execution_count": 19,
   "metadata": {},
   "outputs": [
    {
     "name": "stdout",
     "output_type": "stream",
     "text": [
      "Temperature mean in june: 74.94411764705882\n"
     ]
    }
   ],
   "source": [
    "# Temperatures in june query \n",
    "\n",
    "jun_readings = session.query(measurement.tobs).\\\n",
    "        filter(func.strftime(\"%m-%d\", measurement.date) >= '06-01').\\\n",
    "        filter(func.strftime(\"%m-%d\", measurement.date) <= '06-30').all()\n",
    "   \n",
    "jun_readings_df = pd.DataFrame(jun_readings)\n",
    "print(f'Temperature mean in june: {jun_readings_df.tobs.mean()}')"
   ]
  },
  {
   "cell_type": "code",
   "execution_count": 20,
   "metadata": {},
   "outputs": [
    {
     "name": "stdout",
     "output_type": "stream",
     "text": [
      "Temperature mean in june: 71.04152933421226\n"
     ]
    }
   ],
   "source": [
    "# Temperatures in Dec query \n",
    "\n",
    "dec_readings = session.query(measurement.tobs).\\\n",
    "        filter(func.strftime(\"%m-%d\", measurement.date) >= '12-01').\\\n",
    "        filter(func.strftime(\"%m-%d\", measurement.date) <= '12-31').all()\n",
    "\n",
    "dec_readings_df = pd.DataFrame(dec_readings)  \n",
    "print(f'Temperature mean in june: {dec_readings_df.tobs.mean()}')"
   ]
  },
  {
   "cell_type": "code",
   "execution_count": 21,
   "metadata": {},
   "outputs": [
    {
     "data": {
      "text/plain": [
       "Ttest_indResult(statistic=array([31.60372399]), pvalue=array([3.9025129e-191]))"
      ]
     },
     "execution_count": 21,
     "metadata": {},
     "output_type": "execute_result"
    }
   ],
   "source": [
    "# t-test between the two months\n",
    "\n",
    "stats.ttest_ind(jun_readings_df, dec_readings_df)"
   ]
  },
  {
   "cell_type": "markdown",
   "metadata": {},
   "source": [
    "## Temperature Analysis II"
   ]
  },
  {
   "cell_type": "code",
   "execution_count": 22,
   "metadata": {
    "scrolled": true
   },
   "outputs": [
    {
     "name": "stdout",
     "output_type": "stream",
     "text": [
      "[(62.0, 69.57142857142857, 74.0)]\n"
     ]
    }
   ],
   "source": [
    "# This function called `calc_temps` will accept start date and end date in the format '%Y-%m-%d' \n",
    "# and return the minimum, average, and maximum temperatures for that range of dates\n",
    "def calc_temps(start_date, end_date):\n",
    "    \"\"\"TMIN, TAVG, and TMAX for a list of dates.\n",
    "    \n",
    "    Args:\n",
    "        start_date (string): A date string in the format %Y-%m-%d\n",
    "        end_date (string): A date string in the format %Y-%m-%d\n",
    "        \n",
    "    Returns:\n",
    "        TMIN, TAVE, and TMAX\n",
    "    \"\"\"\n",
    "    \n",
    "    return session.query(func.min(measurement.tobs), func.avg(measurement.tobs), func.max(measurement.tobs)).\\\n",
    "        filter(measurement.date >= start_date).filter(measurement.date <= end_date).all()\n",
    "\n",
    "# function usage example\n",
    "print(calc_temps('2012-02-28', '2012-03-05'))"
   ]
  },
  {
   "cell_type": "code",
   "execution_count": 23,
   "metadata": {},
   "outputs": [
    {
     "name": "stdout",
     "output_type": "stream",
     "text": [
      "tmin: 58.0, tavg: 74.14, and tmax: 87.0\n"
     ]
    }
   ],
   "source": [
    "# Use your previous function `calc_temps` to calculate the tmin, tavg, and tmax \n",
    "# for your trip using the previous year's data for those same dates.\n",
    "calc_results = calc_temps(\"2017-01-01\", \"2018-01-01\")\n",
    "\n",
    "for record in calc_results:\n",
    "    (min_value, avg_value, max_value) = record\n",
    "    \n",
    "print(f'tmin: {min_value}, tavg: {round(avg_value,2)}, and tmax: {max_value}')"
   ]
  },
  {
   "cell_type": "code",
   "execution_count": 24,
   "metadata": {},
   "outputs": [
    {
     "data": {
      "image/png": "[encoded data removed]",
      "text/plain": [
       "<Figure size 432x288 with 1 Axes>"
      ]
     },
     "metadata": {},
     "output_type": "display_data"
    }
   ],
   "source": [
    "# Plot the results from your previous query as a bar chart. \n",
    "# Use \"Trip Avg Temp\" as your Title\n",
    "# Use the average temperature for the y value\n",
    "# Use the peak-to-peak (tmax-tmin) value as the y error bar (yerr)\n",
    "y_value = round(avg_value,2)\n",
    "y_err = max_value-min_value\n",
    "x_pos = 1\n",
    "\n",
    "fig, ax = plt.subplots()\n",
    "ax.bar(x_pos,y_value, width=.1,yerr=y_err, align='center', alpha=0.5, ecolor='black', capsize=10)\n",
    "plt.title(\"Trip Avg Temp\")\n",
    "ax.set_ylabel('Temp(F)')\n",
    "plt.tight_layout()\n",
    "plt.show()\n"
   ]
  },
  {
   "cell_type": "code",
   "execution_count": 25,
   "metadata": {},
   "outputs": [
    {
     "data": {
      "text/html": [
       "<div>\n",
       "<style scoped>\n",
       "    .dataframe tbody tr th:only-of-type {\n",
       "        vertical-align: middle;\n",
       "    }\n",
       "\n",
       "    .dataframe tbody tr th {\n",
       "        vertical-align: top;\n",
       "    }\n",
       "\n",
       "    .dataframe thead th {\n",
       "        text-align: right;\n",
       "    }\n",
       "</style>\n",
       "<table border=\"1\" class=\"dataframe\">\n",
       "  <thead>\n",
       "    <tr style=\"text-align: right;\">\n",
       "      <th></th>\n",
       "      <th>meas_station</th>\n",
       "      <th>total_rain</th>\n",
       "      <th>stat_name</th>\n",
       "      <th>stat_lat</th>\n",
       "      <th>stat_lon</th>\n",
       "      <th>stat_elev</th>\n",
       "    </tr>\n",
       "  </thead>\n",
       "  <tbody>\n",
       "    <tr>\n",
       "      <th>2</th>\n",
       "      <td>USC00516128</td>\n",
       "      <td>68.78</td>\n",
       "      <td>MANOA LYON ARBO 785.2, HI US</td>\n",
       "      <td>21.33310</td>\n",
       "      <td>-157.80250</td>\n",
       "      <td>152.4</td>\n",
       "    </tr>\n",
       "    <tr>\n",
       "      <th>4</th>\n",
       "      <td>USC00519281</td>\n",
       "      <td>43.66</td>\n",
       "      <td>WAIHEE 837.5, HI US</td>\n",
       "      <td>21.45167</td>\n",
       "      <td>-157.84889</td>\n",
       "      <td>32.9</td>\n",
       "    </tr>\n",
       "    <tr>\n",
       "      <th>0</th>\n",
       "      <td>USC00513117</td>\n",
       "      <td>34.62</td>\n",
       "      <td>KANEOHE 838.1, HI US</td>\n",
       "      <td>21.42340</td>\n",
       "      <td>-157.80150</td>\n",
       "      <td>14.6</td>\n",
       "    </tr>\n",
       "    <tr>\n",
       "      <th>6</th>\n",
       "      <td>USC00519523</td>\n",
       "      <td>27.32</td>\n",
       "      <td>WAIMANALO EXPERIMENTAL FARM, HI US</td>\n",
       "      <td>21.33556</td>\n",
       "      <td>-157.71139</td>\n",
       "      <td>19.5</td>\n",
       "    </tr>\n",
       "    <tr>\n",
       "      <th>1</th>\n",
       "      <td>USC00514830</td>\n",
       "      <td>21.80</td>\n",
       "      <td>KUALOA RANCH HEADQUARTERS 886.9, HI US</td>\n",
       "      <td>21.52130</td>\n",
       "      <td>-157.83740</td>\n",
       "      <td>7.0</td>\n",
       "    </tr>\n",
       "    <tr>\n",
       "      <th>5</th>\n",
       "      <td>USC00519397</td>\n",
       "      <td>10.66</td>\n",
       "      <td>WAIKIKI 717.2, HI US</td>\n",
       "      <td>21.27160</td>\n",
       "      <td>-157.81680</td>\n",
       "      <td>3.0</td>\n",
       "    </tr>\n",
       "    <tr>\n",
       "      <th>3</th>\n",
       "      <td>USC00517948</td>\n",
       "      <td>3.39</td>\n",
       "      <td>PEARL CITY, HI US</td>\n",
       "      <td>21.39340</td>\n",
       "      <td>-157.97510</td>\n",
       "      <td>11.9</td>\n",
       "    </tr>\n",
       "  </tbody>\n",
       "</table>\n",
       "</div>"
      ],
      "text/plain": [
       "  meas_station  total_rain                               stat_name  stat_lat  \\\n",
       "2  USC00516128       68.78            MANOA LYON ARBO 785.2, HI US  21.33310   \n",
       "4  USC00519281       43.66                     WAIHEE 837.5, HI US  21.45167   \n",
       "0  USC00513117       34.62                    KANEOHE 838.1, HI US  21.42340   \n",
       "6  USC00519523       27.32      WAIMANALO EXPERIMENTAL FARM, HI US  21.33556   \n",
       "1  USC00514830       21.80  KUALOA RANCH HEADQUARTERS 886.9, HI US  21.52130   \n",
       "5  USC00519397       10.66                    WAIKIKI 717.2, HI US  21.27160   \n",
       "3  USC00517948        3.39                       PEARL CITY, HI US  21.39340   \n",
       "\n",
       "    stat_lon  stat_elev  \n",
       "2 -157.80250      152.4  \n",
       "4 -157.84889       32.9  \n",
       "0 -157.80150       14.6  \n",
       "6 -157.71139       19.5  \n",
       "1 -157.83740        7.0  \n",
       "5 -157.81680        3.0  \n",
       "3 -157.97510       11.9  "
      ]
     },
     "execution_count": 25,
     "metadata": {},
     "output_type": "execute_result"
    }
   ],
   "source": [
    "# Calculate the total amount of rainfall per weather station for your trip dates using the previous year's matching dates.\n",
    "# Sort this in descending order by precipitation amount and list the station, name, latitude, longitude, and elevation\n",
    "sel = [func.sum(measurement.prcp), measurement.station,station.station, station.name, station.latitude, station.longitude, station.elevation]\n",
    "rainfall_station = session.query(*sel).filter(measurement.date >= \"2017-01-01\").filter(measurement.date <= \"2018-01-01\").\\\n",
    "                    group_by(measurement.station).filter(measurement.station == station.station).limit(10).all()\n",
    "\n",
    "rainfall_list = []\n",
    "for record in rainfall_station:\n",
    "    rainfall_dict={}\n",
    "    (total_rain, meas_station, stat_station, stat_name,stat_lat,stat_lon,stat_elev) = record\n",
    "    rainfall_dict['meas_station'] = meas_station\n",
    "    rainfall_dict['total_rain'] = total_rain\n",
    "    rainfall_dict['stat_name'] = stat_name\n",
    "    rainfall_dict['stat_lat'] = stat_lat\n",
    "    rainfall_dict['stat_lon'] = stat_lon\n",
    "    rainfall_dict['stat_elev'] = stat_elev\n",
    "    rainfall_list.append(rainfall_dict)\n",
    "\n",
    "rainfall_df = pd.DataFrame(rainfall_list)\n",
    "rainfall_df.sort_values(by='total_rain',ascending=False)\n"
   ]
  },
  {
   "cell_type": "code",
   "execution_count": 26,
   "metadata": {},
   "outputs": [
    {
     "data": {
      "text/plain": [
       "[(62.0, 69.15384615384616, 77.0)]"
      ]
     },
     "execution_count": 26,
     "metadata": {},
     "output_type": "execute_result"
    }
   ],
   "source": [
    "# Create a query that will calculate the daily normals \n",
    "# (i.e. the averages for tmin, tmax, and tavg for all historic data matching a specific month and day)\n",
    "\n",
    "def daily_normals(date):\n",
    "    \"\"\"Daily Normals.\n",
    "    \n",
    "    Args:\n",
    "        date (str): A date string in the format '%m-%d'\n",
    "        \n",
    "    Returns:\n",
    "        A list of tuples containing the daily normals, tmin, tavg, and tmax\n",
    "    \n",
    "    \"\"\"\n",
    "    \n",
    "    sel = [func.min(measurement.tobs), func.avg(measurement.tobs), func.max(measurement.tobs)]\n",
    "    return session.query(*sel).filter(func.strftime(\"%m-%d\", measurement.date) == date).all()\n",
    "    \n",
    "daily_normals(\"01-01\")"
   ]
  },
  {
   "cell_type": "code",
   "execution_count": 27,
   "metadata": {},
   "outputs": [
    {
     "data": {
      "text/plain": [
       "[{'min_tobs': 62.0, 'avg_tobs': 69.15, 'max_tobs': 77.0},\n",
       " {'min_tobs': 60.0, 'avg_tobs': 69.4, 'max_tobs': 77.0},\n",
       " {'min_tobs': 62.0, 'avg_tobs': 68.91, 'max_tobs': 77.0},\n",
       " {'min_tobs': 58.0, 'avg_tobs': 70.0, 'max_tobs': 76.0},\n",
       " {'min_tobs': 56.0, 'avg_tobs': 67.96, 'max_tobs': 76.0},\n",
       " {'min_tobs': 61.0, 'avg_tobs': 68.96, 'max_tobs': 76.0},\n",
       " {'min_tobs': 57.0, 'avg_tobs': 68.54, 'max_tobs': 76.0}]"
      ]
     },
     "execution_count": 27,
     "metadata": {},
     "output_type": "execute_result"
    }
   ],
   "source": [
    "# calculate the daily normals for your trip\n",
    "# push each tuple of calculations into a list called `normals`\n",
    "\n",
    "# Set the start and end date of the trip\n",
    "start_date = '2018-01-01'\n",
    "end_date = '2018-01-07'\n",
    "\n",
    "# Use the start and end date to create a range of dates\n",
    "datelist = pd.date_range(start_date,end_date).tolist()\n",
    "\n",
    "# Stip off the year and save a list of %m-%d strings\n",
    "date_list = []\n",
    "for date in datelist:\n",
    "    date_add = date.strftime(\"%m-%d\")\n",
    "    date_list.append(date_add)\n",
    "\n",
    "\n",
    "# Loop through the list of %m-%d strings and calculate the normals for each date\n",
    "daily_normals_list = []\n",
    "for date in date_list:\n",
    "    daily_normals_record = daily_normals(date)\n",
    "    for record in daily_normals_record:\n",
    "        date_list_dict={}\n",
    "        (min_tobs, avg_tobs, max_tobs) = record\n",
    "        date_list_dict['min_tobs'] = min_tobs\n",
    "        date_list_dict['avg_tobs'] = round(avg_tobs,2)\n",
    "        date_list_dict['max_tobs'] = max_tobs\n",
    "        daily_normals_list.append(date_list_dict)\n",
    "    \n",
    "daily_normals_list\n"
   ]
  },
  {
   "cell_type": "code",
   "execution_count": 28,
   "metadata": {},
   "outputs": [
    {
     "data": {
      "text/html": [
       "<div>\n",
       "<style scoped>\n",
       "    .dataframe tbody tr th:only-of-type {\n",
       "        vertical-align: middle;\n",
       "    }\n",
       "\n",
       "    .dataframe tbody tr th {\n",
       "        vertical-align: top;\n",
       "    }\n",
       "\n",
       "    .dataframe thead th {\n",
       "        text-align: right;\n",
       "    }\n",
       "</style>\n",
       "<table border=\"1\" class=\"dataframe\">\n",
       "  <thead>\n",
       "    <tr style=\"text-align: right;\">\n",
       "      <th></th>\n",
       "      <th>min_tobs</th>\n",
       "      <th>avg_tobs</th>\n",
       "      <th>max_tobs</th>\n",
       "    </tr>\n",
       "  </thead>\n",
       "  <tbody>\n",
       "    <tr>\n",
       "      <th>2018-01-01</th>\n",
       "      <td>62.0</td>\n",
       "      <td>69.15</td>\n",
       "      <td>77.0</td>\n",
       "    </tr>\n",
       "    <tr>\n",
       "      <th>2018-01-02</th>\n",
       "      <td>60.0</td>\n",
       "      <td>69.40</td>\n",
       "      <td>77.0</td>\n",
       "    </tr>\n",
       "    <tr>\n",
       "      <th>2018-01-03</th>\n",
       "      <td>62.0</td>\n",
       "      <td>68.91</td>\n",
       "      <td>77.0</td>\n",
       "    </tr>\n",
       "    <tr>\n",
       "      <th>2018-01-04</th>\n",
       "      <td>58.0</td>\n",
       "      <td>70.00</td>\n",
       "      <td>76.0</td>\n",
       "    </tr>\n",
       "    <tr>\n",
       "      <th>2018-01-05</th>\n",
       "      <td>56.0</td>\n",
       "      <td>67.96</td>\n",
       "      <td>76.0</td>\n",
       "    </tr>\n",
       "    <tr>\n",
       "      <th>2018-01-06</th>\n",
       "      <td>61.0</td>\n",
       "      <td>68.96</td>\n",
       "      <td>76.0</td>\n",
       "    </tr>\n",
       "    <tr>\n",
       "      <th>2018-01-07</th>\n",
       "      <td>57.0</td>\n",
       "      <td>68.54</td>\n",
       "      <td>76.0</td>\n",
       "    </tr>\n",
       "  </tbody>\n",
       "</table>\n",
       "</div>"
      ],
      "text/plain": [
       "            min_tobs  avg_tobs  max_tobs\n",
       "2018-01-01      62.0     69.15      77.0\n",
       "2018-01-02      60.0     69.40      77.0\n",
       "2018-01-03      62.0     68.91      77.0\n",
       "2018-01-04      58.0     70.00      76.0\n",
       "2018-01-05      56.0     67.96      76.0\n",
       "2018-01-06      61.0     68.96      76.0\n",
       "2018-01-07      57.0     68.54      76.0"
      ]
     },
     "execution_count": 28,
     "metadata": {},
     "output_type": "execute_result"
    }
   ],
   "source": [
    "# Load the previous query results into a Pandas DataFrame and add the `trip_dates` range as the `date` index\n",
    "date_list = []\n",
    "for date in datelist:\n",
    "    date_add = date.strftime(\"%Y-%m-%d\")\n",
    "    date_list.append(date_add)\n",
    "    \n",
    "daily_normals_df = pd.DataFrame(daily_normals_list,index=date_list)\n",
    "\n",
    "daily_normals_df"
   ]
  },
  {
   "cell_type": "code",
   "execution_count": 29,
   "metadata": {},
   "outputs": [
    {
     "data": {
      "image/png": "[encoded data removed]",
      "text/plain": [
       "<Figure size 432x288 with 1 Axes>"
      ]
     },
     "metadata": {},
     "output_type": "display_data"
    }
   ],
   "source": [
    "# Plot the daily normals as an area plot with `stacked=False`\n",
    "ax = daily_normals_df.plot.area(stacked=False,rot=45)\n",
    "plt.ylabel(\"Temperature\")\n",
    "plt.xlabel(\"Date\")\n",
    "plt.tight_layout()\n",
    "plt.show()\n",
    "#session.close()"
   ]
  }
 ],
 "metadata": {
  "kernel_info": {
   "name": "python3"
  },
  "kernelspec": {
   "display_name": "Python [conda env:DATAACCM] *",
   "language": "python",
   "name": "conda-env-DATAACCM-py"
  },
  "language_info": {
   "codemirror_mode": {
    "name": "ipython",
    "version": 3
   },
   "file_extension": ".py",
   "mimetype": "text/x-python",
   "name": "python",
   "nbconvert_exporter": "python",
   "pygments_lexer": "ipython3",
   "version": "3.7.6"
  },
  "nteract": {
   "version": "0.12.3"
  },
  "varInspector": {
   "cols": {
    "lenName": 16,
    "lenType": 16,
    "lenVar": 40
   },
   "kernels_config": {
    "python": {
     "delete_cmd_postfix": "",
     "delete_cmd_prefix": "del ",
     "library": "var_list.py",
     "varRefreshCmd": "print(var_dic_list())"
    },
    "r": {
     "delete_cmd_postfix": ") ",
     "delete_cmd_prefix": "rm(",
     "library": "var_list.r",
     "varRefreshCmd": "cat(var_dic_list()) "
    }
   },
   "types_to_exclude": [
    "module",
    "function",
    "builtin_function_or_method",
    "instance",
    "_Feature"
   ],
   "window_display": false
  }
 },
 "nbformat": 4,
 "nbformat_minor": 2
}
